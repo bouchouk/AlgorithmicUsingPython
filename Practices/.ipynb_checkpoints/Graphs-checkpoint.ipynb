{
 "cells": [
  {
   "cell_type": "markdown",
   "metadata": {},
   "source": [
    "## Exercise 1: Write a function that checks whether a given graph is connected or not.\n",
    "\n",
    "A graph $G=(S,A)$ is said to be connected if for any pair of vertices $(u,v)$ there is a path connecting $u$ and $v$. \n",
    "- Example 1: Oriented graph\n",
    "\n",
    "![orientedgraph](data/oriented-graph.png)\n",
    "\n",
    "    - The graph above is connected because we can find a path between each pair of vertices\n",
    "    - The pairs of vertices are: $(1,2)$, $(1,3)$, $(1,4)$, $(1,5)$, $(2,3)$, $(2,4)$, $(2,5)$, $(3,2)$, $(3,4)$, $(3,5)$, $(4,5)$.\n",
    "    \n",
    "- Example 2: Unoriented graph\n",
    "\n",
    "![unorientedgraph](data/unoriented-graph.png)\n",
    "\n",
    "    - The graph above is not connected because we cannot find a path between the vertices (5,6) and the other vertices. \n",
    "    - This graph is composed of two connected components."
   ]
  },
  {
   "cell_type": "code",
   "execution_count": 59,
   "metadata": {},
   "outputs": [
    {
     "name": "stdout",
     "output_type": "stream",
     "text": [
      "not connected\n",
      "connected\n",
      "connected\n"
     ]
    }
   ],
   "source": [
    "import numpy as np\n",
    "matrice2 = np.array([[0,1,0,1,0,0],\n",
    "                   [1,0,1,0,0,0],\n",
    "                   [0,1,0,1,0,0],\n",
    "                   [1,0,1,0,0,0],\n",
    "                   [0,0,0,0,0,1],\n",
    "                   [0,0,0,0,1,0]])\n",
    "matrice3 = np.array([[0,1,0,1,1,0],\n",
    "                   [1,0,0,0,1,0],\n",
    "                   [0,0,0,1,0,1],\n",
    "                   [1,0,1,0,0,1],\n",
    "                   [1,1,0,0,0,0],\n",
    "                   [0,0,1,1,0,0]])\n",
    "matrice1 = np.array([[0,0,0,1],\n",
    "                   [1,0,0,0],\n",
    "                   [1,1,0,0],\n",
    "                   [0,0,1,0]])\n",
    "\n",
    "def connetcion_check(mat):\n",
    "    i=0\n",
    "    n=1\n",
    "    x=0\n",
    "    while i< len(mat[x])-1:\n",
    "        i+=1\n",
    "        for j in range(len(mat[x])):\n",
    "            if mat[x][j]==1 :\n",
    "                mat[x][j]=0\n",
    "                mat[j][x]=0\n",
    "                x=j\n",
    "                break\n",
    "            elif j==len(mat)-1:\n",
    "                return\"not connected\"\n",
    "            \n",
    "            \n",
    "    return\"connected\"\n",
    "     \n",
    "       \n",
    "            \n",
    "        \n",
    "print(connetcion_check(matrice2))\n",
    "print(connetcion_check(matrice1))\n",
    "print(connetcion_check(matrice3))"
   ]
  },
  {
   "cell_type": "markdown",
   "metadata": {},
   "source": [
    "## Exercise 2: Given a binary tree, find the sum of all the leaves.\n",
    "\n",
    "![Tree1](data/tree1.png)\n",
    "\n",
    "- Example: \n",
    "\n",
    "```python\n",
    ">>> a = [40, [14, [5, [3, [], []], [2, [], []] ], [4, [], [] ]], [6, [1, [], []], [5, [], []]]]\n",
    ">>> print(somme_feuilles(a3))\n",
    "```"
   ]
  },
  {
   "cell_type": "code",
   "execution_count": 64,
   "metadata": {},
   "outputs": [
    {
     "name": "stdout",
     "output_type": "stream",
     "text": [
      "15\n"
     ]
    }
   ],
   "source": [
    "a3 = [40, [14, [5, [3, [], []], [2, [], []] ], [4, [], [] ]], [6, [1, [], []], [5, [], []]]]\n",
    "def somme(a):\n",
    "    if a[1]==[] and a[2]==[]:\n",
    "        return a[0]\n",
    "    else:\n",
    "        return somme(a[1])+somme(a[2])\n",
    "print(somme(a3))\n",
    "    "
   ]
  },
  {
   "cell_type": "markdown",
   "metadata": {},
   "source": [
    "## Exercise 3: Given a binary tree, check whether all leaves are at the same level or not.\n",
    "\n",
    "![Tree2](data/tree2.png)\n",
    "\n",
    "- Expected output:\n",
    "\n",
    "```python\n",
    ">>> same_level(T1) \n",
    "False\n",
    ">>> same_level(T2)\n",
    "True\n",
    "```"
   ]
  },
  {
   "cell_type": "code",
   "execution_count": null,
   "metadata": {},
   "outputs": [],
   "source": []
  }
 ],
 "metadata": {
  "kernelspec": {
   "display_name": "Python 3 (ipykernel)",
   "language": "python",
   "name": "python3"
  },
  "language_info": {
   "codemirror_mode": {
    "name": "ipython",
    "version": 3
   },
   "file_extension": ".py",
   "mimetype": "text/x-python",
   "name": "python",
   "nbconvert_exporter": "python",
   "pygments_lexer": "ipython3",
   "version": "3.10.6"
  }
 },
 "nbformat": 4,
 "nbformat_minor": 4
}
