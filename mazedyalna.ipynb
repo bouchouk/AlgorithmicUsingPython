{
 "cells": [
  {
   "cell_type": "code",
   "execution_count": null,
   "id": "a5e893b2",
   "metadata": {},
   "outputs": [],
   "source": [
    "graph=[]\n",
    "start=[]\n",
    "end=[]\n",
    "for i in range(len(maze)):\n",
    "    for j in range(len(maze[i]):\n",
    "        if maze[i][j]==\"S\":\n",
    "            start.append((i,j))\n",
    "        if maze[i][j]==\"E\":\n",
    "            end.append(i,j)\n",
    "        if maze[i][j]==\" \" or maze[i][j]==\"D\" or maze[i][j]==\"S\" or maze[i][j]==\"E\":\n",
    "            if j == len(maze[i])-1 and i == len(maze)-1:\n",
    "                   pass\n",
    "            elif j == len(maze[i])-1:\n",
    "                  if maze[i][j]==maze[i+1][j]:\n",
    "                      graph.append([(i,j),(i+1,j)])\n",
    "            elif i == len(maze)-1:\n",
    "                if maze[i][j]==maze[i][j+1]:\n",
    "                    graph.append([(i,j),(i,j+1)])\n",
    "            else:\n",
    "                if maze[i][j]==maze[i][j+1]:\n",
    "                    graph.append([(i,j),(i,j+1)])\n",
    "                if maze[i][j]==maze[i+1][j]:\n",
    "                    graph.append([(i,j),(i+1,j)]\n",
    "                                       \n",
    "def solve_maze(graph):\n",
    "    queue = queue.Queue()\n",
    "    queue.put(start)\n",
    "    end_list=[]\n",
    "    already_passed=[]\n",
    "    end_paths=[]\n",
    "    while queue.qsize()!=0:                                   \n",
    "        move = queue.get()\n",
    "        for _ in range(len(graph)):\n",
    "            if move[-1]==end:\n",
    "                  end_paths.append(move)\n",
    "            else:\n",
    "                if graph[_][0]==move[-1] and [graph[_][0],graph[_][1]] not in already_passed:\n",
    "                    already_passed.append([graph[_][0],graph[_][1]])\n",
    "                    path = [move]+[graph[_][1]]\n",
    "                    queue.put(path)\n",
    "                if graph[_][1]==move[-1] and [graph[_][0],graph[_][1]] not in already_passed:\n",
    "                    already_passed.append([graph[_][0],graph[_][1]])\n",
    "                    path = [move]+[graph[_][0]]\n",
    "                    queue.put(path)\n",
    "    print(end_paths)\n",
    " \n",
    "       \n",
    "solve_maze(graph)           \n",
    "            \n",
    "                                    \n",
    "                                       "
   ]
  }
 ],
 "metadata": {
  "kernelspec": {
   "display_name": "Python 3 (ipykernel)",
   "language": "python",
   "name": "python3"
  },
  "language_info": {
   "codemirror_mode": {
    "name": "ipython",
    "version": 3
   },
   "file_extension": ".py",
   "mimetype": "text/x-python",
   "name": "python",
   "nbconvert_exporter": "python",
   "pygments_lexer": "ipython3",
   "version": "3.10.6"
  }
 },
 "nbformat": 4,
 "nbformat_minor": 5
}
