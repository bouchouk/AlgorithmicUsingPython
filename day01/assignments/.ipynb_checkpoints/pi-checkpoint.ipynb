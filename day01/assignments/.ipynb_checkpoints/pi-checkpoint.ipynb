{
 "cells": [
  {
   "cell_type": "code",
   "execution_count": 23,
   "id": "2b6970dc",
   "metadata": {},
   "outputs": [
    {
     "name": "stdout",
     "output_type": "stream",
     "text": [
      "give me a precision:100000000\n",
      "3.14160708\n"
     ]
    }
   ],
   "source": [
    "import random\n",
    "import math\n",
    "a=0\n",
    "b=0\n",
    "precision = int(input(\"give me a precision:\"))\n",
    "for i in range(precision):\n",
    "    d=math.sqrt(2)\n",
    "    x = random.uniform(0,1)\n",
    "    y = random.uniform(0,1)\n",
    "    r = math.sqrt(x**2+y**2)\n",
    "    if r <= 1:\n",
    "        a+=1\n",
    "    else:\n",
    "        b+=1\n",
    "pi = 4*a/(a+b)\n",
    "print(pi)\n",
    "        "
   ]
  },
  {
   "cell_type": "code",
   "execution_count": null,
   "id": "fac4ac4f",
   "metadata": {},
   "outputs": [],
   "source": []
  },
  {
   "cell_type": "code",
   "execution_count": null,
   "id": "ee38f21c",
   "metadata": {},
   "outputs": [],
   "source": []
  }
 ],
 "metadata": {
  "kernelspec": {
   "display_name": "Python 3 (ipykernel)",
   "language": "python",
   "name": "python3"
  },
  "language_info": {
   "codemirror_mode": {
    "name": "ipython",
    "version": 3
   },
   "file_extension": ".py",
   "mimetype": "text/x-python",
   "name": "python",
   "nbconvert_exporter": "python",
   "pygments_lexer": "ipython3",
   "version": "3.10.6"
  }
 },
 "nbformat": 4,
 "nbformat_minor": 5
}
